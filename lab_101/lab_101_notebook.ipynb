{
  "cells": [
    {
      "cell_type": "markdown",
      "metadata": {
        "id": "YoV_E0v1UdMo"
      },
      "source": [
        "<img align=\"center\" style=\"max-width: 900px; height: auto\" src=\"../assets/banner.png\">"
      ]
    },
    {
      "cell_type": "markdown",
      "metadata": {
        "id": "-E01Nu9tUdMp"
      },
      "source": [
        "<img align=\"right\" style=\"max-width: 200px; height: auto\" src=\"../assets/hsg_logo.png\">\n",
        "\n",
        "###  Lab 101 - Introduction to Python and Jupyter\n",
        "\n",
        "7,854,1.00 Machine Learning, University of St.Gallen (HSG)"
      ]
    },
    {
      "cell_type": "markdown",
      "metadata": {
        "id": "6ofNsqrKUdMp"
      },
      "source": [
        "The lab environment of the **7,854,1.00 Machine Learning** course is powered by Jupyter Notebooks (https://jupyter.org), which allows one to perform a great deal of data analysis and statistical validation. In this first lab, we want to touch on the basic concepts and techniques of such notebooks. Furthermore, its capabilities will be demonstrated based on a few simple and introductory examples."
      ]
    },
    {
      "cell_type": "markdown",
      "metadata": {
        "id": "bXQ3R7CpUdMp"
      },
      "source": [
        "### Lab Objectives:"
      ]
    },
    {
      "cell_type": "markdown",
      "metadata": {
        "id": "uJWRF5MmUdMq"
      },
      "source": [
        "After today's lab, you should be able to:\n",
        "    \n",
        "> 1. Understand the general workflow, structure, and functionality of **Jupyter** notebooks.\n",
        "> 2. Import and apply python data science libraries such as `NumPy` and `Pandas`.\n",
        "> 3. Understand how the **Python** programming language can be utilized to manipulate and analyze financial data.\n",
        "> 4. Download arbitrary stock market and financial data using the `Pandas` `DataReader` API.\n",
        "> 5. Use the `Matplotlib` library to visualize data as well as analytical results."
      ]
    },
    {
      "cell_type": "markdown",
      "metadata": {
        "id": "Xh3AXPiMUdMq"
      },
      "source": [
        "Note: The content of this first lab is inspired by the Quantopian lecture series ( https://www.quantopian.com ). If you are interested to learn more about financial data science and/or algorithmic trading their lectures are a great resource to get you started."
      ]
    },
    {
      "cell_type": "markdown",
      "metadata": {
        "id": "_M3APvL9UdMq"
      },
      "source": [
        "### 1. Jupyter Notebook Introduction"
      ]
    },
    {
      "cell_type": "markdown",
      "metadata": {
        "id": "DqfNXF6TUdMq"
      },
      "source": [
        "#### Code Cells vs. Text Cells"
      ]
    },
    {
      "cell_type": "markdown",
      "metadata": {
        "id": "8JiMN-krUdMq"
      },
      "source": [
        "As you can see, each cell can be either code or text. To select between them, choose from the `Cell Type` dropdown menu on the top left."
      ]
    },
    {
      "cell_type": "markdown",
      "metadata": {
        "id": "WeiEU3XnUdMr"
      },
      "source": [
        "Hello World!"
      ]
    },
    {
      "cell_type": "code",
      "execution_count": 2,
      "metadata": {
        "id": "j7UiPqA8UdMr"
      },
      "outputs": [
        {
          "data": {
            "text/plain": [
              "6"
            ]
          },
          "execution_count": 2,
          "metadata": {},
          "output_type": "execute_result"
        }
      ],
      "source": [
        "1 + 5"
      ]
    },
    {
      "cell_type": "markdown",
      "metadata": {
        "id": "88sDYaa_UdMr"
      },
      "source": [
        "#### Executing a Command"
      ]
    },
    {
      "cell_type": "markdown",
      "metadata": {
        "id": "CmqtHR20UdMr"
      },
      "source": [
        "A code cell will be evaluated when you press **'Run'**, or when you press the shortcut, shift-enter. Evaluating a cell evaluates each line of code in sequence, and prints the results of the last line below the cell."
      ]
    },
    {
      "cell_type": "code",
      "execution_count": null,
      "metadata": {
        "id": "MXqxUPOSUdMr"
      },
      "outputs": [],
      "source": [
        "40 + 2"
      ]
    },
    {
      "cell_type": "markdown",
      "metadata": {
        "id": "glHQ6kSwUdMs"
      },
      "source": [
        "Sometimes there is no result to be printed, as is the case with the following assignment:"
      ]
    },
    {
      "cell_type": "code",
      "execution_count": null,
      "metadata": {
        "id": "dxs2ep7XUdMs"
      },
      "outputs": [],
      "source": [
        "X = 2"
      ]
    },
    {
      "cell_type": "code",
      "execution_count": null,
      "metadata": {
        "id": "lcVI8zS2UdMs"
      },
      "outputs": [],
      "source": [
        "X"
      ]
    },
    {
      "cell_type": "markdown",
      "metadata": {
        "id": "auWBjhFIUdMs"
      },
      "source": [
        "Remember that only the result from the last line is printed."
      ]
    },
    {
      "cell_type": "code",
      "execution_count": null,
      "metadata": {
        "id": "rEMQFvo2UdMs"
      },
      "outputs": [],
      "source": [
        "2 + 2\n",
        "3 + 3"
      ]
    },
    {
      "cell_type": "markdown",
      "metadata": {
        "id": "k_DiUnHgUdMs"
      },
      "source": [
        "However, you can print whichever lines you want using the print statement."
      ]
    },
    {
      "cell_type": "code",
      "execution_count": null,
      "metadata": {
        "id": "6xC4Z-B_UdMs"
      },
      "outputs": [],
      "source": [
        "print(2 + 2)\n",
        "3 + 3"
      ]
    },
    {
      "cell_type": "markdown",
      "metadata": {
        "id": "iMPk5Oe0UdMs"
      },
      "source": [
        "#### Comments\n",
        "\n",
        "The `#` character has a special meaning in Python. Whenever it appears, all following characters on the same line are considered as comments and are ignored. You can use comments to explain what certain parts of your code do."
      ]
    },
    {
      "cell_type": "code",
      "execution_count": null,
      "metadata": {
        "id": "bmWzNsPyUdMs"
      },
      "outputs": [],
      "source": [
        "# this is a comment"
      ]
    },
    {
      "cell_type": "code",
      "execution_count": null,
      "metadata": {
        "id": "INM9DlD1UdMs"
      },
      "outputs": [],
      "source": [
        "print(1) # comments can be on the same line as code"
      ]
    },
    {
      "cell_type": "markdown",
      "metadata": {
        "id": "6gKT5GZnUdMs"
      },
      "source": [
        "#### Knowing When a Cell is Running"
      ]
    },
    {
      "cell_type": "markdown",
      "metadata": {
        "id": "fPzzDfQjUdMs"
      },
      "source": [
        "While a cell is running, a **[*]** will be displayed on the left of the respective cell. When a cell has yet to be executed, **[ ]** will be displayed. When it has been run, a number will display indicating the order in which it was run during the execution of the notebook **[5]**. Try on this cell and note what is happening:"
      ]
    },
    {
      "cell_type": "code",
      "execution_count": null,
      "metadata": {
        "id": "fUWs2acVUdMs"
      },
      "outputs": [],
      "source": [
        "# take some time to run something\n",
        "c = 0\n",
        "for i in range(10000000):\n",
        "    c = c + i\n",
        "c"
      ]
    },
    {
      "cell_type": "markdown",
      "metadata": {
        "id": "0NMPkjBTUdMs"
      },
      "source": [
        "### 2. Importing Python Libraries"
      ]
    },
    {
      "cell_type": "markdown",
      "metadata": {
        "id": "BBGqviCFUdMt"
      },
      "source": [
        "The vast majority of the time, we will use functions from pre-built libraries, such as:"
      ]
    },
    {
      "cell_type": "code",
      "execution_count": null,
      "metadata": {
        "id": "nXtHCf_8UdMt"
      },
      "outputs": [],
      "source": [
        "# importing the python sys library\n",
        "import sys"
      ]
    },
    {
      "cell_type": "markdown",
      "metadata": {
        "id": "vI8QZiIUUdMt"
      },
      "source": [
        "You can check your Python version at the command line by running:"
      ]
    },
    {
      "cell_type": "code",
      "execution_count": null,
      "metadata": {
        "id": "woMWipoNUdMt"
      },
      "outputs": [],
      "source": [
        "# determine the python system version\n",
        "sys.version"
      ]
    },
    {
      "cell_type": "markdown",
      "metadata": {
        "id": "fMoAvC6TUdMt"
      },
      "source": [
        "You can't import every library into the lab environment due to security issues. However, you can import most of the common scientific ones. Here we import the libraries `NumPy` (https://www.numpy.org) and `Pandas` (https://pandas.pydata.org), two of the most common and useful libraries in data science. We recommend copying this import statement for every new notebook that you will create."
      ]
    },
    {
      "cell_type": "code",
      "execution_count": null,
      "metadata": {
        "id": "f71dTC3dUdMt"
      },
      "outputs": [],
      "source": [
        "# import the number and Pandas data science libraries\n",
        "import numpy\n",
        "import pandas"
      ]
    },
    {
      "cell_type": "markdown",
      "metadata": {
        "id": "IlYU_p1sUdMt"
      },
      "source": [
        "Let's now use the `NumPy` library to calculate the mean of a list of numbers:"
      ]
    },
    {
      "cell_type": "code",
      "execution_count": null,
      "metadata": {
        "id": "UmxlAssKUdMt"
      },
      "outputs": [],
      "source": [
        "numpy.mean([1, 2, 3, 4])"
      ]
    },
    {
      "cell_type": "markdown",
      "metadata": {
        "id": "w5y2X47vUdMt"
      },
      "source": [
        "Notice that you can rename libraries to whatever you want after importing. The `as` statement allows this. Here we use `np` and `pd` as aliases for both the pre-built `NumPy` and `Pandas` libraries. This is very common aliasing and will be found in most code snippets around the web. The idea behind this is to allow you to type fewer characters when you are frequently accessing these libraries."
      ]
    },
    {
      "cell_type": "code",
      "execution_count": null,
      "metadata": {
        "id": "n5VnyrwoUdMt"
      },
      "outputs": [],
      "source": [
        "# importing the NumPy and Pandas data science libraries using aliases\n",
        "import numpy as np\n",
        "import pandas as pd"
      ]
    },
    {
      "cell_type": "markdown",
      "metadata": {
        "id": "XUZcnSvGUdMt"
      },
      "source": [
        "Let's now use the `NumPy` library to calculate the mean of a list of numbers:"
      ]
    },
    {
      "cell_type": "code",
      "execution_count": null,
      "metadata": {
        "id": "wlXXcTAcUdMu"
      },
      "outputs": [],
      "source": [
        "np.mean([1, 2, 3, 4])"
      ]
    },
    {
      "cell_type": "markdown",
      "metadata": {
        "id": "hFHvoEcnUdMu"
      },
      "source": [
        "### 3. Code Completion and Documentation"
      ]
    },
    {
      "cell_type": "markdown",
      "metadata": {
        "id": "pHeZkylDUdMu"
      },
      "source": [
        "#### Autocomplete Code"
      ]
    },
    {
      "cell_type": "markdown",
      "metadata": {
        "id": "Z4uQYAZfUdMu"
      },
      "source": [
        "Pressing tab will give you a list of Jupyter's best guesses for what you might want to type next. This is incredibly valuable and will save you a lot of time. If there is only one possible option for what you could type next, Jupyter will fill that in for you. Try pressing tab very frequently; it will seldom fill in anything you don't want as if there is ambiguity a list will be shown. This is a great way to see what functions are available in a library.\n",
        "\n",
        "Try placing your cursor after the `.` and press the `tab` key on your keyboard (or `shift` + `tab` when it doesn't work)."
      ]
    },
    {
      "cell_type": "code",
      "execution_count": null,
      "metadata": {
        "id": "I_SBTeRkUdMu"
      },
      "outputs": [],
      "source": [
        "np.random.gamma"
      ]
    },
    {
      "cell_type": "markdown",
      "metadata": {
        "id": "HJVwDQxxUdMu"
      },
      "source": [
        "#### Documentation Help"
      ]
    },
    {
      "cell_type": "markdown",
      "metadata": {
        "id": "Yfx1PnPSUdMu"
      },
      "source": [
        "Placing a question mark after a function and executing that line of code will give you the documentation Jupyter has for that function. It's often best to do this in a new cell, as you avoid re-executing other code and running into bugs."
      ]
    },
    {
      "cell_type": "code",
      "execution_count": null,
      "metadata": {
        "id": "aBGFD3XUUdMu"
      },
      "outputs": [],
      "source": [
        "np.random.normal?"
      ]
    },
    {
      "cell_type": "markdown",
      "metadata": {
        "id": "R_dJba9mUdMu"
      },
      "source": [
        "### 4. Plotting Data"
      ]
    },
    {
      "cell_type": "markdown",
      "metadata": {
        "id": "IPjaxRuQUdMu"
      },
      "source": [
        "#### Random Data Sampling"
      ]
    },
    {
      "cell_type": "markdown",
      "metadata": {
        "id": "4aZQZoQfUdMu"
      },
      "source": [
        "Let's' sample some random data using a function from `NumPy`."
      ]
    },
    {
      "cell_type": "code",
      "execution_count": null,
      "metadata": {
        "id": "x-lDpyPCUdMu"
      },
      "outputs": [],
      "source": [
        "# sample 100 points with a mean of 0 and an std of 1. This is a standard normal distribution.\n",
        "x = np.random.normal(0, 1, 100)"
      ]
    },
    {
      "cell_type": "code",
      "execution_count": null,
      "metadata": {
        "id": "Rbu3Og2cUdMu"
      },
      "outputs": [],
      "source": [
        "x"
      ]
    },
    {
      "cell_type": "markdown",
      "metadata": {
        "id": "d_yLpDwkUdMv"
      },
      "source": [
        "#### Data Plotting"
      ]
    },
    {
      "cell_type": "markdown",
      "metadata": {
        "id": "tTnZ91q6UdMv"
      },
      "source": [
        "Python's `Matplotlib` library (https://matplotlib.org) is a very flexible library and has a lot of handy, built-in defaults that will help you out tremendously.\n",
        "\n",
        "As such, you don’t need much to get started: you need to make the necessary imports, prepare some data, and you can start plotting with the help of the `plot()` function. Let's have a look."
      ]
    },
    {
      "cell_type": "markdown",
      "metadata": {
        "id": "E2BhP8JlUdMv"
      },
      "source": [
        "Let's import Matplotlib by running the following statements:"
      ]
    },
    {
      "cell_type": "code",
      "execution_count": null,
      "metadata": {
        "id": "dkHl-8lhUdMv"
      },
      "outputs": [],
      "source": [
        "# importing the matplotlib plotting library\n",
        "import matplotlib.pyplot as plt"
      ]
    },
    {
      "cell_type": "markdown",
      "metadata": {
        "id": "vnYE33ovUdMv"
      },
      "source": [
        "Note that we imported the `pyplot` module of the `Matplotlib` library under the alias `plt`."
      ]
    },
    {
      "cell_type": "code",
      "execution_count": null,
      "metadata": {
        "id": "E-2mwaifUdMv"
      },
      "outputs": [],
      "source": [
        "%matplotlib inline"
      ]
    },
    {
      "cell_type": "markdown",
      "metadata": {
        "id": "OACxaDSYUdMv"
      },
      "source": [
        "We can now use the plotting functionality provided by Matplotlib as follows:"
      ]
    },
    {
      "cell_type": "code",
      "execution_count": null,
      "metadata": {
        "id": "_QFv_3-_UdMv"
      },
      "outputs": [],
      "source": [
        "plt.plot(x)"
      ]
    },
    {
      "cell_type": "markdown",
      "metadata": {
        "id": "q-84l1_AUdMv"
      },
      "source": [
        "Let's apply some variations as well as the axis legends to our plot:"
      ]
    },
    {
      "cell_type": "code",
      "execution_count": null,
      "metadata": {
        "id": "w7Hhp7O0UdMv",
        "scrolled": true
      },
      "outputs": [],
      "source": [
        "plt.plot(x, linewidth=3, linestyle=\"--\")\n",
        "\n",
        "# set label and title details\n",
        "plt.xlabel('sample', weight='normal', fontsize=8)\n",
        "plt.ylabel('value', weight='normal', fontsize=8)"
      ]
    },
    {
      "cell_type": "markdown",
      "metadata": {
        "id": "aaWddCX9UdMv"
      },
      "source": [
        "#### Remove Line Output"
      ]
    },
    {
      "cell_type": "markdown",
      "metadata": {
        "id": "hXQZP9BmUdMv"
      },
      "source": [
        "You might have noticed a similar annoying line of the form: `[<matplotlib.lines.Line2D at 0x10a4cce90>]` before the created plot. If you wish to get rid of this output, end the plot statement using a semicolon `;`:"
      ]
    },
    {
      "cell_type": "code",
      "execution_count": null,
      "metadata": {
        "id": "cXCskHw4UdMv"
      },
      "outputs": [],
      "source": [
        "plt.plot(x);"
      ]
    },
    {
      "cell_type": "markdown",
      "metadata": {
        "id": "aXBzKY-eUdMw"
      },
      "source": [
        "#### Adding Axis Labels"
      ]
    },
    {
      "cell_type": "markdown",
      "metadata": {
        "id": "i-Gy-0wQUdMw"
      },
      "source": [
        "No self-respecting quantitative analyst leaves a graph without labeled axes. Here are some commands to help with that."
      ]
    },
    {
      "cell_type": "code",
      "execution_count": null,
      "metadata": {
        "id": "fTvNTELkUdMw"
      },
      "outputs": [],
      "source": [
        "# sample 100 points twice with a mean of 0 and an std of 1 from a standard normal distribution.\n",
        "x1 = np.random.normal(0, 1, 100)\n",
        "x2 = np.random.normal(0, 1, 100)"
      ]
    },
    {
      "cell_type": "code",
      "execution_count": null,
      "metadata": {
        "id": "1b3bIk4dUdMx"
      },
      "outputs": [],
      "source": [
        "# plot both sample results\n",
        "plt.plot(x1);\n",
        "plt.plot(x2);\n",
        "\n",
        "# add x-axis and y-axis label\n",
        "plt.xlabel('Time')\n",
        "plt.ylabel('Returns')\n",
        "\n",
        "# add plot legend\n",
        "plt.legend(['X1', 'X2'])\n",
        "\n",
        "# add plot title\n",
        "plt.title('Sample Returns X1 and X2');"
      ]
    },
    {
      "cell_type": "markdown",
      "metadata": {
        "id": "EiLQetrWUdMx"
      },
      "source": [
        "### 5. Generating Statistics"
      ]
    },
    {
      "cell_type": "markdown",
      "metadata": {
        "id": "MPAzwVkUUdMx"
      },
      "source": [
        "Let's use `NumPy` to take some simple statistics like the mean of the generated samples:"
      ]
    },
    {
      "cell_type": "code",
      "execution_count": null,
      "metadata": {
        "id": "g6dN0vOgUdMx"
      },
      "outputs": [],
      "source": [
        "np.mean(x1)"
      ]
    },
    {
      "cell_type": "markdown",
      "metadata": {
        "id": "W--pD-L_UdMx"
      },
      "source": [
        "As well as the corresponding standard deviation of the generated samples:"
      ]
    },
    {
      "cell_type": "code",
      "execution_count": null,
      "metadata": {
        "id": "CoEN5gGxUdMx"
      },
      "outputs": [],
      "source": [
        "np.std(x1)"
      ]
    },
    {
      "cell_type": "markdown",
      "metadata": {
        "id": "KOMmBd7JUdMx"
      },
      "source": [
        "### 6. Collect and Plot Real Pricing Data"
      ]
    },
    {
      "cell_type": "markdown",
      "metadata": {
        "id": "OznDSOomUdMx"
      },
      "source": [
        "One of the first steps to any data science project is usually to import your data. Randomly sampled data can be great for testing ideas, but let's now import some real financial market data.\n",
        "\n",
        "As part of the `Labs` section of the **Machine Learning** Git repository, you will find a \"Comma Separated Value (CSV)\" file named `sample_google_data_daily.csv`. The file contains the daily stock market data of the **Alphabet (Google) Inc.** stock within the time frame `31-12-2015` till `31-12-2017`. In a next step, we define a variable that stores the URL under which the file is located:"
      ]
    },
    {
      "cell_type": "code",
      "execution_count": null,
      "metadata": {
        "id": "ilxipIixUdMx"
      },
      "outputs": [],
      "source": [
        "file_url = 'https://raw.githubusercontent.com/HSG-AIML-Teaching/ML2025-Lab/main/lab_101/sample_google_data_daily.csv'"
      ]
    },
    {
      "cell_type": "markdown",
      "metadata": {
        "id": "Ve3aL8YfUdMx"
      },
      "source": [
        "Once we have specified the file URL we are able to import the file into Python using the `read_csv()` function of the `Pandas` library by running the following statement:"
      ]
    },
    {
      "cell_type": "code",
      "execution_count": null,
      "metadata": {
        "id": "X662Fen4UdMx"
      },
      "outputs": [],
      "source": [
        "alphabet_data = pd.read_csv(file_url, sep=';')"
      ]
    },
    {
      "cell_type": "markdown",
      "metadata": {
        "id": "m8DidshSUdMx"
      },
      "source": [
        "The retrieved data is a so-called `Pandas` `DataFrame`. You can see the datetime index and the columns with different pricing data. Let's inspect the top 5 rows of the imported data using the `head()` function of the `Pandas` library:"
      ]
    },
    {
      "cell_type": "code",
      "execution_count": null,
      "metadata": {
        "id": "9CreoEbnUdMx"
      },
      "outputs": [],
      "source": [
        "alphabet_data.head(5)"
      ]
    },
    {
      "cell_type": "markdown",
      "metadata": {
        "id": "eHNP1PttUdMx"
      },
      "source": [
        "Looks good, right?"
      ]
    },
    {
      "cell_type": "markdown",
      "metadata": {
        "id": "JFEaarffUdMx"
      },
      "source": [
        "It's great to import data that was already collected and stored accordingly. Unfortunately, in real data science projects, we are often challenged to retrieve the data from a variety of sources, e.g., the web. But where to get financial data of good quality? A great source for retrieving such data can be found in the `Pandas` `Datareader`package.\n",
        "\n",
        "Although the **Google Colab** environment comes with a lot of pre-installed libraries, sometimes a needed library might not be available. Therefore, you may want to install libraries directly within an individual notebook. Please note, libraries installed from the notebook apply only to the current server session. Library installations aren't persistend once the server is shut down."
      ]
    },
    {
      "cell_type": "markdown",
      "metadata": {
        "id": "kRN5dAnqUdMx"
      },
      "source": [
        "In general, libraries in Python can be installed using the shell **pip** command within code cells. Any command that works at the command-line can be used in Jupyter Notebbos by prefixing it with the `!` character. Let's give it a try and install the `pandas_datareader` python library."
      ]
    },
    {
      "cell_type": "code",
      "execution_count": null,
      "metadata": {
        "id": "_kMMLks7UdMx"
      },
      "outputs": [],
      "source": [
        "!pip3 install yfinance --ignore-installed"
      ]
    },
    {
      "cell_type": "markdown",
      "metadata": {
        "id": "NMCulzgvUdMx"
      },
      "source": [
        "Let's import the `DataReader` as well as the `DateTime`library to retreive some financial data:"
      ]
    },
    {
      "cell_type": "code",
      "execution_count": null,
      "metadata": {
        "id": "aHqMVg-sUdMx"
      },
      "outputs": [],
      "source": [
        "import datetime as dt\n",
        "import yfinance as yf"
      ]
    },
    {
      "cell_type": "markdown",
      "metadata": {
        "id": "AoPFG8bKUdMx"
      },
      "source": [
        "Specify both the `start` and `end` date of the data download:"
      ]
    },
    {
      "cell_type": "code",
      "execution_count": null,
      "metadata": {
        "id": "Wa2jWMZvUdMx"
      },
      "outputs": [],
      "source": [
        "start_date = dt.datetime(2024, 1, 1)\n",
        "end_date = dt.datetime(2024, 12, 31)"
      ]
    },
    {
      "cell_type": "markdown",
      "metadata": {
        "id": "1E-X0YmcUdMx"
      },
      "source": [
        "Download the daily **Tesla Inc.** (ticker symbol: TSLA) stock data using the `yfinance` library, which gives us  `Pandas` `dataframe`:"
      ]
    },
    {
      "cell_type": "code",
      "execution_count": null,
      "metadata": {
        "id": "L3Se26__UdMx"
      },
      "outputs": [],
      "source": [
        "# download tesla market data\n",
        "tesla_data = yf.download('TSLA', start=start_date, end=end_date)"
      ]
    },
    {
      "cell_type": "markdown",
      "metadata": {
        "id": "nMD7CpCTUdMx"
      },
      "source": [
        "Let's inspect the top 5 rows of the imported data using the `head()` function of the `Pandas` library:\n",
        "\n",
        "> Add blockquote\n",
        "\n"
      ]
    },
    {
      "cell_type": "code",
      "execution_count": null,
      "metadata": {
        "id": "ZWOadusbUdMx"
      },
      "outputs": [],
      "source": [
        "tesla_data.head(5)"
      ]
    },
    {
      "cell_type": "markdown",
      "metadata": {
        "id": "ltgXi727UdMy"
      },
      "source": [
        "To obtain an initial understanding of the date retrieved, let us have a look at some basic data statistics:"
      ]
    },
    {
      "cell_type": "code",
      "execution_count": null,
      "metadata": {
        "id": "WwatGSq-UdMy"
      },
      "outputs": [],
      "source": [
        "tesla_data.describe()"
      ]
    },
    {
      "cell_type": "markdown",
      "metadata": {
        "id": "OLyKfCTvUdMy"
      },
      "source": [
        "Ok, at first glance, the data looks fine. Let's, therefore, save it to your local directory using the `to_excel()` function of the `Pandas` library:"
      ]
    },
    {
      "cell_type": "code",
      "execution_count": null,
      "metadata": {
        "id": "24rflx1jUdMy"
      },
      "outputs": [],
      "source": [
        "tesla_data.to_excel('sample_tesla_data_daily.xlsx', sheet_name='TSLA_data')"
      ]
    },
    {
      "cell_type": "markdown",
      "metadata": {
        "id": "aCmhum23UdMy"
      },
      "source": [
        "\\To get a specific column of a `Pandas` dataframe, we can column-slice it to get the closing price from data like this:"
      ]
    },
    {
      "cell_type": "code",
      "execution_count": null,
      "metadata": {
        "id": "EPARw-G_UdMy"
      },
      "outputs": [],
      "source": [
        "tesla_closing = tesla_data['Close']"
      ]
    },
    {
      "cell_type": "markdown",
      "metadata": {
        "id": "ORu5V5IfUdMz"
      },
      "source": [
        "Let's inspect the **top 5** rows of the sliced data:"
      ]
    },
    {
      "cell_type": "code",
      "execution_count": null,
      "metadata": {
        "id": "ZXM0qw5sUdMz"
      },
      "outputs": [],
      "source": [
        "tesla_closing.head(5)"
      ]
    },
    {
      "cell_type": "markdown",
      "metadata": {
        "id": "2QBeWH9SUdMz"
      },
      "source": [
        "Ok great, we got two columns (1) the index 'Date' of the DataFrame as well as (2) the data column 'Adj. Close' price that we asked for."
      ]
    },
    {
      "cell_type": "markdown",
      "metadata": {
        "id": "O8DEUFH9UdMz"
      },
      "source": [
        "Let's now plot the date vs. the adjusted closing prices. But before doing so, we need to be able to disentangle the index from the data. This can be accomplished by the `.index` function that will return the index of a given DataFrame as well as the `.values` function that will return the actual data (excl. the index) of a given DataFrame. We will use both commands to specify the X and Y coordinates of the plot:"
      ]
    },
    {
      "cell_type": "code",
      "execution_count": null,
      "metadata": {
        "id": "-GpxzQ5DUdMz"
      },
      "outputs": [],
      "source": [
        "# plot both sample results\n",
        "plt.plot(tesla_closing.index, tesla_closing.values)\n",
        "\n",
        "# tesla_closing.plot()\n",
        "\n",
        "# add x-axis and y-axis label\n",
        "plt.xlabel('Time')\n",
        "plt.ylabel('Closing Price')\n",
        "\n",
        "# add plot title\n",
        "plt.title('Tesla Inc. Daily Adjusted Closing Price');"
      ]
    },
    {
      "cell_type": "code",
      "execution_count": null,
      "metadata": {
        "id": "EVB2zFL2UdMz"
      },
      "outputs": [],
      "source": [
        "np.mean(tesla_closing.values)"
      ]
    },
    {
      "cell_type": "code",
      "execution_count": null,
      "metadata": {
        "id": "MVJaORjKUdMz"
      },
      "outputs": [],
      "source": [
        "np.std(tesla_closing.values)"
      ]
    },
    {
      "cell_type": "markdown",
      "metadata": {
        "id": "N_1HfC5PUdMz"
      },
      "source": [
        "### 7. Obtaining Returns from Prices"
      ]
    },
    {
      "cell_type": "markdown",
      "metadata": {
        "id": "5yx08pepUdMz"
      },
      "source": [
        "When analyzing stock market data, we are often also interested in the return $R_t$ of a financial instrument over a certain time frame:"
      ]
    },
    {
      "cell_type": "markdown",
      "metadata": {
        "id": "gF08V3R8UdMz"
      },
      "source": [
        "$$R_t=\\frac{V_{f}-V_{i}}{V_{i}}$$"
      ]
    },
    {
      "cell_type": "markdown",
      "metadata": {
        "id": "w6JCXH4DUdMz"
      },
      "source": [
        "where:\n",
        "\n",
        "- $V_{f}$ denotes the financial instruments final value, including dividends and interest\n",
        "- $V_{i}$ denotes the financial instruments initial value\n",
        "\n",
        "The `Pandas` data science library provides us with a variety of functions that come quite \"handy\" when analyzing such data. To determine the daily return $r_t$ we may, for example, utilize Pandas `pct_change` function:"
      ]
    },
    {
      "cell_type": "code",
      "execution_count": null,
      "metadata": {
        "id": "T5D1_LjpUdMz"
      },
      "outputs": [],
      "source": [
        "tesla_returns = tesla_closing.pct_change()"
      ]
    },
    {
      "cell_type": "markdown",
      "metadata": {
        "id": "RosPIVtKUdMz"
      },
      "source": [
        "Let's inspect the calculated returns:"
      ]
    },
    {
      "cell_type": "code",
      "execution_count": null,
      "metadata": {
        "id": "0aPK9ScnUdMz"
      },
      "outputs": [],
      "source": [
        "tesla_returns.head(5)"
      ]
    },
    {
      "cell_type": "markdown",
      "metadata": {
        "id": "6Xus7_H3UdMz"
      },
      "source": [
        "Notice, how we drop the first element after doing this, as it will be `NaN`."
      ]
    },
    {
      "cell_type": "code",
      "execution_count": null,
      "metadata": {
        "id": "3eWadEHUUdMz"
      },
      "outputs": [],
      "source": [
        "tesla_returns = tesla_returns[1:]"
      ]
    },
    {
      "cell_type": "markdown",
      "metadata": {
        "id": "Q7ATcgA8UdMz"
      },
      "source": [
        "And inspect the returns data again:"
      ]
    },
    {
      "cell_type": "code",
      "execution_count": null,
      "metadata": {
        "id": "Ghjqqv9qUdMz"
      },
      "outputs": [],
      "source": [
        "tesla_returns.head(5)"
      ]
    },
    {
      "cell_type": "markdown",
      "metadata": {
        "id": "k0B4MoCAUdMz"
      },
      "source": [
        "Let's now plot the distribution of daily returns as a histogram:"
      ]
    },
    {
      "cell_type": "code",
      "execution_count": null,
      "metadata": {
        "id": "zgyMqbkuUdMz"
      },
      "outputs": [],
      "source": [
        "# plot histogram of returns\n",
        "plt.hist(tesla_returns, bins=20)\n",
        "\n",
        "# add x-axis and y-axis label\n",
        "plt.xlabel('Return')\n",
        "plt.ylabel('Frequency')\n",
        "\n",
        "# add plot title\n",
        "plt.title('Tesla Inc. Adjusted Daily Returns');"
      ]
    },
    {
      "cell_type": "markdown",
      "metadata": {
        "id": "dP9gwKdNUdM0"
      },
      "source": [
        "Let's again get statistics on the real daily return data:"
      ]
    },
    {
      "cell_type": "code",
      "execution_count": null,
      "metadata": {
        "id": "lSA7tJKjUdM0"
      },
      "outputs": [],
      "source": [
        "np.mean(tesla_returns)"
      ]
    },
    {
      "cell_type": "code",
      "execution_count": null,
      "metadata": {
        "id": "yb5DiWAOUdM0"
      },
      "outputs": [],
      "source": [
        "np.std(tesla_returns)"
      ]
    },
    {
      "cell_type": "markdown",
      "metadata": {
        "id": "8HKw9ro8UdM0"
      },
      "source": [
        "Let's generate data out of a normal distribution using the statistics we estimated from the daily returns of the Tesla stock. We'll see that we have good reason to suspect the Tesla returns may not be normally distributed, as the resulting normal distribution looks far different."
      ]
    },
    {
      "cell_type": "code",
      "execution_count": null,
      "metadata": {
        "id": "JUBU4gKPUdM0"
      },
      "outputs": [],
      "source": [
        "# plot histogram of randomly sampled returns\n",
        "plt.hist(np.random.normal(np.mean(tesla_returns), np.std(tesla_returns), 10000), bins=20)\n",
        "\n",
        "# add x-axis and y-axis label\n",
        "plt.xlabel('Return')\n",
        "plt.ylabel('Frequency')\n",
        "\n",
        "# add plot title\n",
        "plt.title('Tesla Inc. Adjusted Daily Returns (Normal)');"
      ]
    },
    {
      "cell_type": "markdown",
      "metadata": {
        "id": "J0WyDT0xUdM0"
      },
      "source": [
        "### 8. Generating a Moving Average"
      ]
    },
    {
      "cell_type": "markdown",
      "metadata": {
        "id": "U2X6q2_wUdM0"
      },
      "source": [
        "When analyzing stock market data, we are often also interested in calculating so-called \"rolling statistics\", e.g., a 90- or 200-day moving average. Again the `Pandas` library is offering some great functions that allow us to generate such rolling statistics. Here's an example. Notice how there's no moving average for the first 30 days, as we don't have 90 days before we can determine the first value:"
      ]
    },
    {
      "cell_type": "code",
      "execution_count": null,
      "metadata": {
        "id": "hfdo4YESUdM0"
      },
      "outputs": [],
      "source": [
        "# determine the rolling average of the last 90 days\n",
        "tesla_moving_average = tesla_closing.rolling(window=90, center=False).mean()"
      ]
    },
    {
      "cell_type": "markdown",
      "metadata": {
        "id": "wemVHjyPUdM0"
      },
      "source": [
        "Let's plot the obtained moving averages."
      ]
    },
    {
      "cell_type": "code",
      "execution_count": null,
      "metadata": {
        "id": "gYASnNGCUdM0"
      },
      "outputs": [],
      "source": [
        "# plot quarterly returns\n",
        "plt.plot(tesla_closing.index, tesla_closing.values)\n",
        "\n",
        "# plot moving averages quarterly returns\n",
        "plt.plot(tesla_moving_average.index, tesla_moving_average.values)\n",
        "\n",
        "# add x-axis and y-axis label\n",
        "plt.xlabel('Return')\n",
        "plt.ylabel('Price')\n",
        "\n",
        "# add plot legend\n",
        "plt.legend(['Return', '90-day MAVG']);\n",
        "\n",
        "# add plot title\n",
        "plt.title('Tesla Inc. Returns vs. Moving Average Returns');"
      ]
    },
    {
      "cell_type": "markdown",
      "metadata": {
        "id": "fLJAvVEtUdM0"
      },
      "source": [
        "### Lab Assignments:"
      ]
    },
    {
      "cell_type": "markdown",
      "metadata": {
        "id": "2wRzEO_6UdM0"
      },
      "source": [
        "You may want to try the following exercises after the lab:"
      ]
    },
    {
      "cell_type": "markdown",
      "metadata": {
        "id": "miBwz1uAUdM0"
      },
      "source": [
        "**1. Download data using the library `yfinance`.**\n",
        "\n",
        "> Download the daily closing prices of the three following stocks: Netflix, Facebook, and Microsoft. Download the daily stock closing prices starting from 2014-01-01 until today as a `Pandas` DataFrame."
      ]
    },
    {
      "cell_type": "code",
      "execution_count": null,
      "metadata": {
        "id": "eW_gxGV7UdM0"
      },
      "outputs": [],
      "source": [
        "# ***************************************************\n",
        "# INSERT YOUR CODE HERE\n",
        "# ***************************************************"
      ]
    },
    {
      "cell_type": "markdown",
      "metadata": {
        "id": "vn2BtrZdUdM0"
      },
      "source": [
        "Throughout the course, we will visualize and analyze plenty of data. The following exercises should provide you a first intuition on how this can be achieved using Python's `Pandas` and `Matplotlib` library:\n",
        "\n",
        "**2. Visualise data using the `Matplotlib` library, `plt.plot(...)` and `plt.hist(...)`.**\n",
        "\n",
        "> Visualize the downloaded data by plotting the daily adjusted closing prices of the three stocks over time (1) into a single plot for each stock as well as (2) into a single plot containing the closing prices of all three stocks combined."
      ]
    },
    {
      "cell_type": "code",
      "execution_count": null,
      "metadata": {
        "id": "lGsx-8YmUdM0"
      },
      "outputs": [],
      "source": [
        "# ***************************************************\n",
        "# INSERT YOUR CODE HERE\n",
        "# ***************************************************"
      ]
    },
    {
      "cell_type": "markdown",
      "metadata": {
        "id": "Sct0KthNUdM0"
      },
      "source": [
        "**3. Save data using the `Pandas` library.**\n",
        "\n",
        "> Research the `Panda's` data science library on how to save a `Pandas` `DataFrame` to a local directory. Save the raw daily closing prices and corresponding date of all three stocks in a comma-separated value (CSV) format to your local directory. Save the CSV file using the semicolon `';'` separator."
      ]
    },
    {
      "cell_type": "code",
      "execution_count": null,
      "metadata": {
        "id": "r3L-0G2MUdM0"
      },
      "outputs": [],
      "source": [
        "# ***************************************************\n",
        "# INSERT YOUR CODE HERE\n",
        "# ***************************************************"
      ]
    },
    {
      "cell_type": "markdown",
      "metadata": {
        "id": "g7HAt9f8UdM0"
      },
      "source": [
        "**4. Analyze data using the `Pandas` library, `data.rolling(..., window=...)`.**\n",
        "\n",
        "> For each stock, calculate the rolling moving averages of the daily closing prices using a time window of 30 and 90 days. For each stock, plot the daily closing price as well as the 30 and 90 days moving average into a single plot."
      ]
    },
    {
      "cell_type": "code",
      "execution_count": null,
      "metadata": {
        "id": "t53zLpD4UdM0"
      },
      "outputs": [],
      "source": [
        "# ***************************************************\n",
        "# INSERT YOUR CODE HERE\n",
        "# ***************************************************"
      ]
    },
    {
      "cell_type": "markdown",
      "metadata": {
        "id": "PnqfcpWdUdM1"
      },
      "source": [
        "### Lab Summary:"
      ]
    },
    {
      "cell_type": "markdown",
      "metadata": {
        "id": "2yc6yWZoUdM1"
      },
      "source": [
        "In this initial lab, a step by step introduction into some basic concepts of analyzing financial data using Jupyter notebooks are presented. The code and exercises presented in this lab may serve you as a starting point for more complex and tailored analytics."
      ]
    },
    {
      "cell_type": "markdown",
      "metadata": {
        "id": "3AfavVSiUdM1"
      },
      "source": [
        "You may want to execute the content of your lab outside of the Jupyter notebook environment, e.g., on a compute node or a server. The cell below converts the lab notebook into a standalone and executable python script."
      ]
    },
    {
      "cell_type": "code",
      "execution_count": null,
      "metadata": {
        "id": "3ksgggGBUdM1"
      },
      "outputs": [],
      "source": [
        "!jupyter nbconvert --to script lab_101_notebook.ipynb"
      ]
    }
  ],
  "metadata": {
    "colab": {
      "provenance": []
    },
    "kernelspec": {
      "display_name": "base",
      "language": "python",
      "name": "python3"
    },
    "language_info": {
      "codemirror_mode": {
        "name": "ipython",
        "version": 3
      },
      "file_extension": ".py",
      "mimetype": "text/x-python",
      "name": "python",
      "nbconvert_exporter": "python",
      "pygments_lexer": "ipython3",
      "version": "3.12.7"
    },
    "toc": {
      "base_numbering": 1,
      "nav_menu": {},
      "number_sections": false,
      "sideBar": true,
      "skip_h1_title": false,
      "title_cell": "Table of Contents",
      "title_sidebar": "Contents",
      "toc_cell": false,
      "toc_position": {},
      "toc_section_display": true,
      "toc_window_display": false
    }
  },
  "nbformat": 4,
  "nbformat_minor": 0
}
